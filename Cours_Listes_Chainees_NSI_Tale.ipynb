{
 "cells": [
  {
   "cell_type": "markdown",
   "metadata": {},
   "source": [
    "<h1><center>Tale NSI</center></h1>\n",
    "<h1><center>Les structures de données linéaires.</center></h1>\n",
    "<h3> I) Introduction. </h3>\n",
    "La structure de tableau permet de stocker des séquences déléments mais n'est pas adptéess à toutes<br> les opérations que l'on pourrait vouloir effectuer sur les séquences.<br>\n",
    "Les tableaux, au sens de Python par exemple, permettent d'insérer ou de supprimer effcacement des éléments à la<br> fin de d'un tableau avec les opérations <b>append </b> et <b>pop</b>, mais se prêtent mal à l'insertion ou <br> suppression d'un élément à une autre position, et pour d'autre langages, pour qui un tableau a une taille fixe et non redimentionnables même les opérations <b>append </b> et pop</b> ne sont pas évidentes, c'est le cas par exemple pour le langage Pascal, C et C++ ou l'on déclare lors de la céation le type de données du tableau et la taille du tableau.<br>\n",
    "Les éléments d'un tableau étant contigües et ordonnés pour insérer un élément dans une séquence demande de <br>déplacer tous les éléments qui les suivent de pour lui faire une place.<br>"
   ]
  },
  {
   "cell_type": "markdown",
   "metadata": {},
   "source": [
    "<img src=\"liste.gif\"  alt=\"Drawing\" style=\"width: 500px;\"/> "
   ]
  },
  {
   "cell_type": "markdown",
   "metadata": {},
   "source": [
    "On peut le faire facilement avec en utilisant l'opération _insert_ des tableaux de Python appelée habituellement<br> les listes  : <br> _liste.insert(0,12)_ <br>"
   ]
  },
  {
   "cell_type": "code",
   "execution_count": 52,
   "metadata": {},
   "outputs": [
    {
     "data": {
      "text/plain": [
       "[1, 1, 5, 3, 12, 9, 2, 6, 9, 11, 32]"
      ]
     },
     "execution_count": 52,
     "metadata": {},
     "output_type": "execute_result"
    }
   ],
   "source": [
    "liste=[1,1,5,3,9,2,6,9,11,32]\n",
    "liste.insert(4,12)\n",
    "liste"
   ]
  },
  {
   "cell_type": "markdown",
   "metadata": {},
   "source": [
    "Cette apération est en réalité très couteuse elle équivaut à l'exécution des lignes, en Python suivantes :<br>"
   ]
  },
  {
   "cell_type": "code",
   "execution_count": 54,
   "metadata": {},
   "outputs": [],
   "source": [
    "def inserer(k,l,x):\n",
    "    l=l+[None]                # On commence par agrandir le tableau.\n",
    "    n=len(l)\n",
    "    cmpt=0\n",
    "    print(l)\n",
    "    for i in range(n-1,k,-1): # on commence le décalage depuis la fin de liste.\n",
    "        l[i]=l[i-1]           # on décale chaque élément vers la droite d'un indice.\n",
    "        cmpt+=1\n",
    "    l[k]=x                    # puis on insere l'élément x à l'indice k.\n",
    "    print(l)\n",
    "    print(cmpt)"
   ]
  },
  {
   "cell_type": "code",
   "execution_count": 57,
   "metadata": {},
   "outputs": [
    {
     "name": "stdout",
     "output_type": "stream",
     "text": [
      "10\n",
      "[1, 25, 5, 3, 9, 2, 6, 9, 11, 32, None]\n",
      "[1, 25, 5, 3, 9, 2, 6, 9, 11, 32, 99]\n",
      "0\n"
     ]
    }
   ],
   "source": [
    "l=[1,25,5,3,9,2,6,9,11,32]\n",
    "print(len(l))\n",
    "inserer(len(l),l,99)"
   ]
  },
  {
   "cell_type": "markdown",
   "metadata": {},
   "source": [
    "Au total, on a réalisé nombre d'opérations proportionnel à la taille de la liste . Si par exemple la liste contient un million d'éléments, on fera un million <br>d'opérations pour ajouter ( ou même supprimer) le premier élément.<br>\n",
    "Dans ce cours on va introduire une structure de données, _les listes chainées_ , qui d'une part apporte une meilleure solution au problème d'insertion et suppression d'éléments en début de séquence, et d'autres part cela servira de brique de base pour d'autres structures de données.    "
   ]
  },
  {
   "cell_type": "markdown",
   "metadata": {},
   "source": [
    "<h3> II) Structure de liste chainée. </h3>\n",
    "\n",
    "Une _liste chainée_ est une séquence finie de valeurs, par exemple des entiers, des chaines de cacactères,...Comme son nom le suggère, sa structure est cacatérisée par le fait que les éléments sont chainés entre eux, ce qui permet de passer d'un élément au suivant.<br>\n",
    "Ains chaque élément est stocké dans un petit bloc alloué quelques part dans la mémoire, que l'on pourra appeler _maillon_ ou _cellule_ et y est accompagné d'une deuxième information: l'adresse mémoire de la cellule où se trouve l'élément suivant de la liste.\n",
    "On a, donc, un début de liste et chaque élément est matérialisé par un emplacement en mémoire (une adresse) contenant d'une part sa valeur et d'autre part l'adresse mémoire de la valeur suivante."
   ]
  },
  {
   "cell_type": "markdown",
   "metadata": {},
   "source": [
    "<h5> Implémentation .</h5>\n",
    "Une façon, traditionnelle, de représenter une liste chaînée en Python conciste à utiliser une classe décrivant les cellules de la liste et tout objet de cette classe deux attribut: un attribut<b> valeur</b> et un attribut <b>suivant </b> et pour le dernièr l'attribut suivant est <b>None </b> qu'on pourra représenter par le symbole  \"ꓕ\"<br>"
   ]
  },
  {
   "cell_type": "code",
   "execution_count": 9,
   "metadata": {},
   "outputs": [],
   "source": [
    "class Cellule :\n",
    "    \n",
    "    def __init__(self,valeur=None,suivante=None) :\n",
    "        self.valeur = valeur\n",
    "        self.suivante = suivante\n",
    "        \n",
    "    def __str__(self):\n",
    "        return str(self.valeur)\n",
    "    \n",
    "    \n",
    "\n",
    "class Liste :\n",
    "    \n",
    "    def __init__(self): \n",
    "        self.debut = None\n",
    "        \n",
    "    # liste vide\n",
    "    def est_vide(self):\n",
    "        return self.debut == None\n",
    "    \n",
    "    # ajouter un élément en fin de liste\n",
    "    def ajouter(self,el):\n",
    "        \n",
    "        if self.est_vide():\n",
    "            self.debut = Cellule(el)\n",
    "        else:\n",
    "            tmp = self.debut\n",
    "            while tmp.suivante is not None:\n",
    "                tmp = tmp.suivante\n",
    "            tmp.suivante = Cellule(el)\n",
    "\n",
    "    \n",
    "\n",
    "    \n",
    "    def __len__(self):\n",
    "        \n",
    "        if self.est_vide():\n",
    "            return 0\n",
    "        else:\n",
    "            cpt=1\n",
    "            temp = self.debut\n",
    "            while temp.suivante is not None :\n",
    "                cpt+=1\n",
    "                temp=temp.suivante\n",
    "        return cpt\n",
    "        \n",
    "    def __str__(self):\n",
    "        \n",
    "        if self.est_vide():\n",
    "            return \"liste vide\"\n",
    "        else:\n",
    "            tmp = self.debut\n",
    "            res = \"[\"\n",
    "            while tmp.suivante is not None:\n",
    "                res = res + str(tmp.valeur) + \",\"\n",
    "                tmp = tmp.suivante\n",
    "            res = res + str(tmp.valeur) + \"]\"\n",
    "        return res\n",
    " "
   ]
  },
  {
   "cell_type": "markdown",
   "metadata": {},
   "source": [
    "Ainsi pour construire une liste, il suffit d'appliquer le constructeur de la classe autant de fois qu'il y d'éléments dans la liste.<br> Pour construire la liste [1,2,3] :"
   ]
  },
  {
   "cell_type": "code",
   "execution_count": 11,
   "metadata": {},
   "outputs": [
    {
     "name": "stdout",
     "output_type": "stream",
     "text": [
      "---création liste vide----\n",
      "liste vide\n",
      "----remplissage---------\n",
      "[1,2,3]\n"
     ]
    },
    {
     "data": {
      "text/plain": [
       "3"
      ]
     },
     "execution_count": 11,
     "metadata": {},
     "output_type": "execute_result"
    }
   ],
   "source": [
    "# pour essais      \n",
    "    \n",
    "print('---création liste vide----')\n",
    "lst2=Liste()\n",
    "print(lst2)\n",
    "print('----remplissage---------')\n",
    "t=[1,2,3]\n",
    "for el in t:\n",
    "    lst2.ajouter(el)\n",
    "print(lst2)\n",
    "len(lst2)\n"
   ]
  },
  {
   "cell_type": "markdown",
   "metadata": {},
   "source": [
    "Schématiquement cela correspond à :"
   ]
  },
  {
   "cell_type": "markdown",
   "metadata": {},
   "source": [
    "<img src=\"liste_chainee.png\" alt=\"Drawing\" style=\"width: 500px;\"/>"
   ]
  },
  {
   "cell_type": "markdown",
   "metadata": {},
   "source": [
    "La valeur contenue dans la variable liste est l'adresse mémoire de l'objet contenant la valeur 1,qui lui même contient l'adresse de l'objet contenant la valeur 2....\n",
    "Cette construction correspond à une définition récurssive d'une liste chaînée.\n",
    "<h5>A. Définition (récursive) d'une liste chaînée :</h5>\n",
    "Une liste chaînée est soit vide, soit définie par un élément suivi d'une liste chainée"
   ]
  },
  {
   "cell_type": "markdown",
   "metadata": {},
   "source": [
    "<h5>B. Longueur d'une liste.</h5>\n",
    "La première méthode que nous allons programmer est : longueur(liste) qui renvoie la longueur de la liste"
   ]
  },
  {
   "cell_type": "code",
   "execution_count": 16,
   "metadata": {},
   "outputs": [],
   "source": [
    "def __len__(self):\n",
    "        \n",
    "        if self.est_vide():\n",
    "            return 0\n",
    "        else:\n",
    "            cpt=1\n",
    "            temp = self.debut\n",
    "            while temp.suivante is not None :\n",
    "                cpt+=1\n",
    "                temp=temp.suivante\n",
    "        return cpt"
   ]
  },
  {
   "cell_type": "code",
   "execution_count": 17,
   "metadata": {},
   "outputs": [
    {
     "data": {
      "text/plain": [
       "3"
      ]
     },
     "execution_count": 17,
     "metadata": {},
     "output_type": "execute_result"
    }
   ],
   "source": [
    "len(lst2)"
   ]
  },
  {
   "cell_type": "code",
   "execution_count": null,
   "metadata": {},
   "outputs": [],
   "source": []
  }
 ],
 "metadata": {
  "kernelspec": {
   "display_name": "Python 3 (ipykernel)",
   "language": "python",
   "name": "python3"
  },
  "language_info": {
   "codemirror_mode": {
    "name": "ipython",
    "version": 3
   },
   "file_extension": ".py",
   "mimetype": "text/x-python",
   "name": "python",
   "nbconvert_exporter": "python",
   "pygments_lexer": "ipython3",
   "version": "3.9.12"
  }
 },
 "nbformat": 4,
 "nbformat_minor": 4
}
